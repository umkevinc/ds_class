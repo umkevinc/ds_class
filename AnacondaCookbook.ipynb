{
 "cells": [
  {
   "cell_type": "markdown",
   "metadata": {},
   "source": [
    "# Anaconda Cookbook"
   ]
  },
  {
   "cell_type": "markdown",
   "metadata": {},
   "source": [
    "## 1. Update your conda"
   ]
  },
  {
   "cell_type": "markdown",
   "metadata": {},
   "source": [
    "In your terminal type:\n",
    "\n",
    "```bash \n",
    "conda update conda\n",
    "```\n",
    "\n",
    "It will prompt you update or not then type `y`."
   ]
  },
  {
   "cell_type": "markdown",
   "metadata": {},
   "source": [
    "## 2. Create a virtual enviroment for your project"
   ]
  },
  {
   "cell_type": "markdown",
   "metadata": {},
   "source": [
    "Type the command below to create a new conda enviroment. Usually it is a good practice to create spererate enviroments for each project to avoid library version conflict.\n",
    "\n",
    "```bash\n",
    "conda create -n <your envname> anaconda\n",
    "```"
   ]
  },
  {
   "cell_type": "markdown",
   "metadata": {},
   "source": [
    "## 3. Activate your conda enviroment"
   ]
  },
  {
   "cell_type": "markdown",
   "metadata": {},
   "source": [
    "Now we can go ahaed to activate the new conda enviroment we have just created: \n",
    "```bash\n",
    "source activate <your envname>\n",
    "```\n",
    "After you type the command you will see `(your envname)` in front of each line of your  terminal. That means you have successfully completed this step.\n",
    "\n",
    "Here are some helpful commands: \n",
    "```bash\n",
    "# This shows the information about your conda and enviroment you are currently in\n",
    "conda info\n",
    "\n",
    "# This shows all the libraries you have installed in this enviroment\n",
    "conda list\n",
    "\n",
    "# This searches the installed libraries\n",
    "conda list <library prefix>\n",
    "\n",
    "# Example:\n",
    "conda list sci\n",
    "# \n",
    "# packages in environment at /Users/<your username>/anaconda2/envs/ds_class:\n",
    "#\n",
    "#scikit-image              0.12.3              np110py27_0\n",
    "#scikit-learn              0.17.1              np110py27_0\n",
    "#scipy                     0.17.0              np110py27_0\n",
    "```"
   ]
  },
  {
   "cell_type": "markdown",
   "metadata": {},
   "source": [
    "## 4. Install new Python packages"
   ]
  },
  {
   "cell_type": "markdown",
   "metadata": {},
   "source": [
    "Here is how you install a new python package to your conda enviroment\n",
    "```bash \n",
    "conda install -n <your envname> \n",
    "```\n",
    "\n",
    "Now we want to install a couple of new packages for \n",
    "```bash \n",
    "# There library should come with conda. Try if you can find it:\n",
    "conda list numpy \n",
    "```\n",
    "If not follow the instruction below to install the one that's missing:\n",
    "```bash \n",
    "conda install -n <your envname> numpy\n",
    "conda install -n <your envname> scipy\n",
    "conda install -n <your envname> matplotlib\n",
    "conda install -n <your envname> pandas \n",
    "conda install -n <your envname> scikit-learn\n",
    "```\n",
    "Here we are install this plotting package:\n",
    "```bash\n",
    "conda install -n <your envname> seaborn\n",
    "# Reference: https://web.stanford.edu/~mwaskom/software/seaborn/\n",
    "\n",
    "```"
   ]
  },
  {
   "cell_type": "markdown",
   "metadata": {},
   "source": [
    "## 5. Remove a Python package"
   ]
  },
  {
   "cell_type": "markdown",
   "metadata": {},
   "source": [
    "If you ever want to remove a package, it is very easy. Just type the following:\n",
    "```bash\n",
    "conda uninstall <package name>\n",
    "```"
   ]
  },
  {
   "cell_type": "markdown",
   "metadata": {},
   "source": [
    "## 6. Deactivate your virtual enviroment"
   ]
  },
  {
   "cell_type": "markdown",
   "metadata": {},
   "source": [
    "Once you are done and you want to exist your enviroment. You can type the following:\n",
    "```bash\n",
    "source deactivate\n",
    "```\n",
    "It is a good practice to exist your enviroment before you jump on to another project. "
   ]
  },
  {
   "cell_type": "markdown",
   "metadata": {},
   "source": [
    "## Reference"
   ]
  },
  {
   "cell_type": "markdown",
   "metadata": {},
   "source": [
    "The conda offical documentation can be found [here](http://conda.pydata.org/docs/intro.html)."
   ]
  }
 ],
 "metadata": {
  "kernelspec": {
   "display_name": "Python 2",
   "language": "python",
   "name": "python2"
  },
  "language_info": {
   "codemirror_mode": {
    "name": "ipython",
    "version": 2
   },
   "file_extension": ".py",
   "mimetype": "text/x-python",
   "name": "python",
   "nbconvert_exporter": "python",
   "pygments_lexer": "ipython2",
   "version": "2.7.10"
  }
 },
 "nbformat": 4,
 "nbformat_minor": 0
}
