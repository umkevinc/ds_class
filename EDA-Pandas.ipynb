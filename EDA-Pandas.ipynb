{
 "cells": [
  {
   "cell_type": "markdown",
   "metadata": {},
   "source": [
    "# EDA and Pandas"
   ]
  },
  {
   "cell_type": "markdown",
   "metadata": {},
   "source": [
    "## Get the Dataset\n",
    "\n",
    "In kaggle webste you can find many datasets to play with [link](https://www.kaggle.com/datasets). You probably have to create an account first. \n",
    "\n",
    "Today we are using these two datasets:\n",
    "1. SF Salaries [download](https://www.kaggle.com/kaggle/sf-salaries)\n",
    "2. World University Rankings [download](https://www.kaggle.com/mylesoneill/world-university-rankings)\n",
    "\n",
    "you can go to the page and hit `Download Data` to download them. After you download them, move the zip file to current directly and unzip it into a `data` folder.\n",
    "\n",
    "Create a data folder:\n",
    "```bash\n",
    "mkdir data\n",
    "cd data\n",
    "```\n",
    "\n",
    "move `sf-salaries` to data folder and unzip:\n",
    "```bash\n",
    "mv ~/Downloads/sf-salaries-release-2015-12-21-03-21-32.zip . \n",
    "unzip sf-salaries-release-2015-12-21-03-21-32.zip\n",
    "```\n",
    "move `world-university-ranking` to data folder and unzip:\n",
    "```bash\n",
    "mv ~/Downloads/world-university-ranking.zip . \n",
    "unzip world-university-ranking.zip\n",
    "```"
   ]
  },
  {
   "cell_type": "markdown",
   "metadata": {},
   "source": [
    "## 1. Load `SF Salaries` Data"
   ]
  },
  {
   "cell_type": "markdown",
   "metadata": {},
   "source": [
    "In JupyterNotebook you can type `ls` to browse your files:"
   ]
  },
  {
   "cell_type": "code",
   "execution_count": 2,
   "metadata": {
    "collapsed": false
   },
   "outputs": [
    {
     "name": "stdout",
     "output_type": "stream",
     "text": [
      "\u001b[34moutput\u001b[m\u001b[m/                                      \u001b[34mworld-university-ranking\u001b[m\u001b[m/\r\n",
      "sf-salaries-release-2015-12-21-03-21-32.zip  world-university-ranking.zip\r\n"
     ]
    }
   ],
   "source": [
    "ls data"
   ]
  },
  {
   "cell_type": "code",
   "execution_count": 3,
   "metadata": {
    "collapsed": false
   },
   "outputs": [
    {
     "name": "stdout",
     "output_type": "stream",
     "text": [
      "Salaries.csv     database.sqlite  hashes.txt\r\n"
     ]
    }
   ],
   "source": [
    "ls data/output"
   ]
  },
  {
   "cell_type": "markdown",
   "metadata": {},
   "source": [
    "## 2. Basic DataFrame Operation"
   ]
  },
  {
   "cell_type": "markdown",
   "metadata": {},
   "source": [
    "Let's load  the Salaries file:"
   ]
  },
  {
   "cell_type": "code",
   "execution_count": 4,
   "metadata": {
    "collapsed": false
   },
   "outputs": [
    {
     "name": "stderr",
     "output_type": "stream",
     "text": [
      "/Users/nasa56/env/datascience/lib/python2.7/site-packages/pandas/io/parsers.py:1170: DtypeWarning: Columns (3,4,5,6,12) have mixed types. Specify dtype option on import or set low_memory=False.\n",
      "  data = self._reader.read(nrows)\n"
     ]
    }
   ],
   "source": [
    "import numpy as np\n",
    "import pandas as pd\n",
    "sf_salaries_df = pd.read_csv('data/output/Salaries.csv')"
   ]
  },
  {
   "cell_type": "code",
   "execution_count": 5,
   "metadata": {
    "collapsed": false
   },
   "outputs": [
    {
     "data": {
      "text/html": [
       "<div style=\"max-height:1000px;max-width:1500px;overflow:auto;\">\n",
       "<table border=\"1\" class=\"dataframe\">\n",
       "  <thead>\n",
       "    <tr style=\"text-align: right;\">\n",
       "      <th></th>\n",
       "      <th>Id</th>\n",
       "      <th>EmployeeName</th>\n",
       "      <th>JobTitle</th>\n",
       "      <th>BasePay</th>\n",
       "      <th>OvertimePay</th>\n",
       "      <th>OtherPay</th>\n",
       "      <th>Benefits</th>\n",
       "      <th>TotalPay</th>\n",
       "      <th>TotalPayBenefits</th>\n",
       "      <th>Year</th>\n",
       "      <th>Notes</th>\n",
       "      <th>Agency</th>\n",
       "      <th>Status</th>\n",
       "    </tr>\n",
       "  </thead>\n",
       "  <tbody>\n",
       "    <tr>\n",
       "      <th>0</th>\n",
       "      <td>1</td>\n",
       "      <td>NATHANIEL FORD</td>\n",
       "      <td>GENERAL MANAGER-METROPOLITAN TRANSIT AUTHORITY</td>\n",
       "      <td>167411.2</td>\n",
       "      <td>0</td>\n",
       "      <td>400184.2</td>\n",
       "      <td>NaN</td>\n",
       "      <td>567595.43</td>\n",
       "      <td>567595.43</td>\n",
       "      <td>2011</td>\n",
       "      <td>NaN</td>\n",
       "      <td>San Francisco</td>\n",
       "      <td>NaN</td>\n",
       "    </tr>\n",
       "    <tr>\n",
       "      <th>1</th>\n",
       "      <td>2</td>\n",
       "      <td>GARY JIMENEZ</td>\n",
       "      <td>CAPTAIN III (POLICE DEPARTMENT)</td>\n",
       "      <td>155966</td>\n",
       "      <td>245131.9</td>\n",
       "      <td>137811.4</td>\n",
       "      <td>NaN</td>\n",
       "      <td>538909.28</td>\n",
       "      <td>538909.28</td>\n",
       "      <td>2011</td>\n",
       "      <td>NaN</td>\n",
       "      <td>San Francisco</td>\n",
       "      <td>NaN</td>\n",
       "    </tr>\n",
       "    <tr>\n",
       "      <th>2</th>\n",
       "      <td>3</td>\n",
       "      <td>ALBERT PARDINI</td>\n",
       "      <td>CAPTAIN III (POLICE DEPARTMENT)</td>\n",
       "      <td>212739.1</td>\n",
       "      <td>106088.2</td>\n",
       "      <td>16452.6</td>\n",
       "      <td>NaN</td>\n",
       "      <td>335279.91</td>\n",
       "      <td>335279.91</td>\n",
       "      <td>2011</td>\n",
       "      <td>NaN</td>\n",
       "      <td>San Francisco</td>\n",
       "      <td>NaN</td>\n",
       "    </tr>\n",
       "    <tr>\n",
       "      <th>3</th>\n",
       "      <td>4</td>\n",
       "      <td>CHRISTOPHER CHONG</td>\n",
       "      <td>WIRE ROPE CABLE MAINTENANCE MECHANIC</td>\n",
       "      <td>77916</td>\n",
       "      <td>56120.71</td>\n",
       "      <td>198306.9</td>\n",
       "      <td>NaN</td>\n",
       "      <td>332343.61</td>\n",
       "      <td>332343.61</td>\n",
       "      <td>2011</td>\n",
       "      <td>NaN</td>\n",
       "      <td>San Francisco</td>\n",
       "      <td>NaN</td>\n",
       "    </tr>\n",
       "    <tr>\n",
       "      <th>4</th>\n",
       "      <td>5</td>\n",
       "      <td>PATRICK GARDNER</td>\n",
       "      <td>DEPUTY CHIEF OF DEPARTMENT,(FIRE DEPARTMENT)</td>\n",
       "      <td>134401.6</td>\n",
       "      <td>9737</td>\n",
       "      <td>182234.6</td>\n",
       "      <td>NaN</td>\n",
       "      <td>326373.19</td>\n",
       "      <td>326373.19</td>\n",
       "      <td>2011</td>\n",
       "      <td>NaN</td>\n",
       "      <td>San Francisco</td>\n",
       "      <td>NaN</td>\n",
       "    </tr>\n",
       "  </tbody>\n",
       "</table>\n",
       "</div>"
      ],
      "text/plain": [
       "   Id       EmployeeName                                        JobTitle  \\\n",
       "0   1     NATHANIEL FORD  GENERAL MANAGER-METROPOLITAN TRANSIT AUTHORITY   \n",
       "1   2       GARY JIMENEZ                 CAPTAIN III (POLICE DEPARTMENT)   \n",
       "2   3     ALBERT PARDINI                 CAPTAIN III (POLICE DEPARTMENT)   \n",
       "3   4  CHRISTOPHER CHONG            WIRE ROPE CABLE MAINTENANCE MECHANIC   \n",
       "4   5    PATRICK GARDNER    DEPUTY CHIEF OF DEPARTMENT,(FIRE DEPARTMENT)   \n",
       "\n",
       "    BasePay OvertimePay  OtherPay Benefits   TotalPay  TotalPayBenefits  Year  \\\n",
       "0  167411.2           0  400184.2      NaN  567595.43         567595.43  2011   \n",
       "1    155966    245131.9  137811.4      NaN  538909.28         538909.28  2011   \n",
       "2  212739.1    106088.2   16452.6      NaN  335279.91         335279.91  2011   \n",
       "3     77916    56120.71  198306.9      NaN  332343.61         332343.61  2011   \n",
       "4  134401.6        9737  182234.6      NaN  326373.19         326373.19  2011   \n",
       "\n",
       "   Notes         Agency Status  \n",
       "0    NaN  San Francisco    NaN  \n",
       "1    NaN  San Francisco    NaN  \n",
       "2    NaN  San Francisco    NaN  \n",
       "3    NaN  San Francisco    NaN  \n",
       "4    NaN  San Francisco    NaN  "
      ]
     },
     "execution_count": 5,
     "metadata": {},
     "output_type": "execute_result"
    }
   ],
   "source": [
    "# Check the first N rows\n",
    "sf_salaries_df.head()"
   ]
  },
  {
   "cell_type": "code",
   "execution_count": 6,
   "metadata": {
    "collapsed": false
   },
   "outputs": [
    {
     "data": {
      "text/html": [
       "<div style=\"max-height:1000px;max-width:1500px;overflow:auto;\">\n",
       "<table border=\"1\" class=\"dataframe\">\n",
       "  <thead>\n",
       "    <tr style=\"text-align: right;\">\n",
       "      <th></th>\n",
       "      <th>Id</th>\n",
       "      <th>EmployeeName</th>\n",
       "      <th>JobTitle</th>\n",
       "      <th>BasePay</th>\n",
       "      <th>OvertimePay</th>\n",
       "      <th>OtherPay</th>\n",
       "      <th>Benefits</th>\n",
       "      <th>TotalPay</th>\n",
       "      <th>TotalPayBenefits</th>\n",
       "      <th>Year</th>\n",
       "      <th>Notes</th>\n",
       "      <th>Agency</th>\n",
       "      <th>Status</th>\n",
       "    </tr>\n",
       "  </thead>\n",
       "  <tbody>\n",
       "    <tr>\n",
       "      <th>148649</th>\n",
       "      <td>148650</td>\n",
       "      <td>Roy I Tillery</td>\n",
       "      <td>Custodian</td>\n",
       "      <td>0.00</td>\n",
       "      <td>0.00</td>\n",
       "      <td>0.00</td>\n",
       "      <td>0.00</td>\n",
       "      <td>0.00</td>\n",
       "      <td>0.00</td>\n",
       "      <td>2014</td>\n",
       "      <td>NaN</td>\n",
       "      <td>San Francisco</td>\n",
       "      <td>PT</td>\n",
       "    </tr>\n",
       "    <tr>\n",
       "      <th>148650</th>\n",
       "      <td>148651</td>\n",
       "      <td>Not provided</td>\n",
       "      <td>Not provided</td>\n",
       "      <td>Not Provided</td>\n",
       "      <td>Not Provided</td>\n",
       "      <td>Not Provided</td>\n",
       "      <td>Not Provided</td>\n",
       "      <td>0.00</td>\n",
       "      <td>0.00</td>\n",
       "      <td>2014</td>\n",
       "      <td>NaN</td>\n",
       "      <td>San Francisco</td>\n",
       "      <td>NaN</td>\n",
       "    </tr>\n",
       "    <tr>\n",
       "      <th>148651</th>\n",
       "      <td>148652</td>\n",
       "      <td>Not provided</td>\n",
       "      <td>Not provided</td>\n",
       "      <td>Not Provided</td>\n",
       "      <td>Not Provided</td>\n",
       "      <td>Not Provided</td>\n",
       "      <td>Not Provided</td>\n",
       "      <td>0.00</td>\n",
       "      <td>0.00</td>\n",
       "      <td>2014</td>\n",
       "      <td>NaN</td>\n",
       "      <td>San Francisco</td>\n",
       "      <td>NaN</td>\n",
       "    </tr>\n",
       "    <tr>\n",
       "      <th>148652</th>\n",
       "      <td>148653</td>\n",
       "      <td>Not provided</td>\n",
       "      <td>Not provided</td>\n",
       "      <td>Not Provided</td>\n",
       "      <td>Not Provided</td>\n",
       "      <td>Not Provided</td>\n",
       "      <td>Not Provided</td>\n",
       "      <td>0.00</td>\n",
       "      <td>0.00</td>\n",
       "      <td>2014</td>\n",
       "      <td>NaN</td>\n",
       "      <td>San Francisco</td>\n",
       "      <td>NaN</td>\n",
       "    </tr>\n",
       "    <tr>\n",
       "      <th>148653</th>\n",
       "      <td>148654</td>\n",
       "      <td>Joe Lopez</td>\n",
       "      <td>Counselor, Log Cabin Ranch</td>\n",
       "      <td>0.00</td>\n",
       "      <td>0.00</td>\n",
       "      <td>-618.13</td>\n",
       "      <td>0.00</td>\n",
       "      <td>-618.13</td>\n",
       "      <td>-618.13</td>\n",
       "      <td>2014</td>\n",
       "      <td>NaN</td>\n",
       "      <td>San Francisco</td>\n",
       "      <td>PT</td>\n",
       "    </tr>\n",
       "  </tbody>\n",
       "</table>\n",
       "</div>"
      ],
      "text/plain": [
       "            Id   EmployeeName                    JobTitle       BasePay  \\\n",
       "148649  148650  Roy I Tillery                   Custodian          0.00   \n",
       "148650  148651   Not provided                Not provided  Not Provided   \n",
       "148651  148652   Not provided                Not provided  Not Provided   \n",
       "148652  148653   Not provided                Not provided  Not Provided   \n",
       "148653  148654      Joe Lopez  Counselor, Log Cabin Ranch          0.00   \n",
       "\n",
       "         OvertimePay      OtherPay      Benefits  TotalPay  TotalPayBenefits  \\\n",
       "148649          0.00          0.00          0.00      0.00              0.00   \n",
       "148650  Not Provided  Not Provided  Not Provided      0.00              0.00   \n",
       "148651  Not Provided  Not Provided  Not Provided      0.00              0.00   \n",
       "148652  Not Provided  Not Provided  Not Provided      0.00              0.00   \n",
       "148653          0.00       -618.13          0.00   -618.13           -618.13   \n",
       "\n",
       "        Year  Notes         Agency Status  \n",
       "148649  2014    NaN  San Francisco     PT  \n",
       "148650  2014    NaN  San Francisco    NaN  \n",
       "148651  2014    NaN  San Francisco    NaN  \n",
       "148652  2014    NaN  San Francisco    NaN  \n",
       "148653  2014    NaN  San Francisco     PT  "
      ]
     },
     "execution_count": 6,
     "metadata": {},
     "output_type": "execute_result"
    }
   ],
   "source": [
    "# Check the last N rows\n",
    "sf_salaries_df.tail()"
   ]
  },
  {
   "cell_type": "code",
   "execution_count": 7,
   "metadata": {
    "collapsed": false
   },
   "outputs": [
    {
     "data": {
      "text/plain": [
       "Id                    int64\n",
       "EmployeeName         object\n",
       "JobTitle             object\n",
       "BasePay              object\n",
       "OvertimePay          object\n",
       "OtherPay             object\n",
       "Benefits             object\n",
       "TotalPay            float64\n",
       "TotalPayBenefits    float64\n",
       "Year                  int64\n",
       "Notes               float64\n",
       "Agency               object\n",
       "Status               object\n",
       "dtype: object"
      ]
     },
     "execution_count": 7,
     "metadata": {},
     "output_type": "execute_result"
    }
   ],
   "source": [
    "# Check the data types\n",
    "sf_salaries_df.dtypes"
   ]
  },
  {
   "cell_type": "code",
   "execution_count": 8,
   "metadata": {
    "collapsed": false
   },
   "outputs": [
    {
     "data": {
      "text/plain": [
       "Id                  False\n",
       "EmployeeName        False\n",
       "JobTitle            False\n",
       "BasePay              True\n",
       "OvertimePay         False\n",
       "OtherPay            False\n",
       "Benefits             True\n",
       "TotalPay            False\n",
       "TotalPayBenefits    False\n",
       "Year                False\n",
       "Notes                True\n",
       "Agency              False\n",
       "Status               True\n",
       "dtype: bool"
      ]
     },
     "execution_count": 8,
     "metadata": {},
     "output_type": "execute_result"
    }
   ],
   "source": [
    "# Check for misssing values\n",
    "sf_salaries_df.isnull().any()"
   ]
  },
  {
   "cell_type": "code",
   "execution_count": 9,
   "metadata": {
    "collapsed": false
   },
   "outputs": [
    {
     "data": {
      "text/html": [
       "<div style=\"max-height:1000px;max-width:1500px;overflow:auto;\">\n",
       "<table border=\"1\" class=\"dataframe\">\n",
       "  <thead>\n",
       "    <tr style=\"text-align: right;\">\n",
       "      <th></th>\n",
       "      <th>Id</th>\n",
       "      <th>TotalPay</th>\n",
       "      <th>TotalPayBenefits</th>\n",
       "      <th>Year</th>\n",
       "      <th>Notes</th>\n",
       "    </tr>\n",
       "  </thead>\n",
       "  <tbody>\n",
       "    <tr>\n",
       "      <th>count</th>\n",
       "      <td>148654.000000</td>\n",
       "      <td>148654.000000</td>\n",
       "      <td>148654.000000</td>\n",
       "      <td>148654.000000</td>\n",
       "      <td>0</td>\n",
       "    </tr>\n",
       "    <tr>\n",
       "      <th>mean</th>\n",
       "      <td>74327.500000</td>\n",
       "      <td>74768.321972</td>\n",
       "      <td>93692.554811</td>\n",
       "      <td>2012.522643</td>\n",
       "      <td>NaN</td>\n",
       "    </tr>\n",
       "    <tr>\n",
       "      <th>std</th>\n",
       "      <td>42912.857795</td>\n",
       "      <td>50517.005274</td>\n",
       "      <td>62793.533483</td>\n",
       "      <td>1.117538</td>\n",
       "      <td>NaN</td>\n",
       "    </tr>\n",
       "    <tr>\n",
       "      <th>min</th>\n",
       "      <td>1.000000</td>\n",
       "      <td>-618.130000</td>\n",
       "      <td>-618.130000</td>\n",
       "      <td>2011.000000</td>\n",
       "      <td>NaN</td>\n",
       "    </tr>\n",
       "    <tr>\n",
       "      <th>25%</th>\n",
       "      <td>37164.250000</td>\n",
       "      <td>36168.995000</td>\n",
       "      <td>44065.650000</td>\n",
       "      <td>2012.000000</td>\n",
       "      <td>NaN</td>\n",
       "    </tr>\n",
       "    <tr>\n",
       "      <th>50%</th>\n",
       "      <td>74327.500000</td>\n",
       "      <td>71426.610000</td>\n",
       "      <td>92404.090000</td>\n",
       "      <td>2013.000000</td>\n",
       "      <td>NaN</td>\n",
       "    </tr>\n",
       "    <tr>\n",
       "      <th>75%</th>\n",
       "      <td>111490.750000</td>\n",
       "      <td>105839.135000</td>\n",
       "      <td>132876.450000</td>\n",
       "      <td>2014.000000</td>\n",
       "      <td>NaN</td>\n",
       "    </tr>\n",
       "    <tr>\n",
       "      <th>max</th>\n",
       "      <td>148654.000000</td>\n",
       "      <td>567595.430000</td>\n",
       "      <td>567595.430000</td>\n",
       "      <td>2014.000000</td>\n",
       "      <td>NaN</td>\n",
       "    </tr>\n",
       "  </tbody>\n",
       "</table>\n",
       "</div>"
      ],
      "text/plain": [
       "                  Id       TotalPay  TotalPayBenefits           Year  Notes\n",
       "count  148654.000000  148654.000000     148654.000000  148654.000000      0\n",
       "mean    74327.500000   74768.321972      93692.554811    2012.522643    NaN\n",
       "std     42912.857795   50517.005274      62793.533483       1.117538    NaN\n",
       "min         1.000000    -618.130000       -618.130000    2011.000000    NaN\n",
       "25%     37164.250000   36168.995000      44065.650000    2012.000000    NaN\n",
       "50%     74327.500000   71426.610000      92404.090000    2013.000000    NaN\n",
       "75%    111490.750000  105839.135000     132876.450000    2014.000000    NaN\n",
       "max    148654.000000  567595.430000     567595.430000    2014.000000    NaN"
      ]
     },
     "execution_count": 9,
     "metadata": {},
     "output_type": "execute_result"
    }
   ],
   "source": [
    "# Summary\n",
    "sf_salaries_df.describe()"
   ]
  },
  {
   "cell_type": "code",
   "execution_count": 25,
   "metadata": {
    "collapsed": false
   },
   "outputs": [
    {
     "data": {
      "text/plain": [
       "(148654, 13)"
      ]
     },
     "execution_count": 25,
     "metadata": {},
     "output_type": "execute_result"
    }
   ],
   "source": [
    "# Check the dataframe dimension\n",
    "sf_salaries_df.shape"
   ]
  },
  {
   "cell_type": "markdown",
   "metadata": {},
   "source": [
    "### Did you see any problem with the datarame?"
   ]
  },
  {
   "cell_type": "code",
   "execution_count": 10,
   "metadata": {
    "collapsed": false
   },
   "outputs": [],
   "source": [
    "sf_salaries_df = sf_salaries_df.replace(\"Not Provided\", np.nan)"
   ]
  },
  {
   "cell_type": "code",
   "execution_count": 16,
   "metadata": {
    "collapsed": false
   },
   "outputs": [],
   "source": [
    "# Enforce the type\n",
    "sf_salaries_df[['BasePay', 'OvertimePay', 'OtherPay', 'TotalPay', 'TotalPayBenefits']] = sf_salaries_df[\n",
    "    ['BasePay', 'OvertimePay', 'OtherPay', 'TotalPay', 'TotalPayBenefits']].astype('float64')\n",
    "sf_salaries_df['Year'] = sf_salaries_df['Year'].astype('str')\n",
    "sf_salaries_df['Id'] = sf_salaries_df['Id'].astype('str')"
   ]
  },
  {
   "cell_type": "code",
   "execution_count": 17,
   "metadata": {
    "collapsed": false
   },
   "outputs": [
    {
     "data": {
      "text/html": [
       "<div style=\"max-height:1000px;max-width:1500px;overflow:auto;\">\n",
       "<table border=\"1\" class=\"dataframe\">\n",
       "  <thead>\n",
       "    <tr style=\"text-align: right;\">\n",
       "      <th></th>\n",
       "      <th>BasePay</th>\n",
       "      <th>OvertimePay</th>\n",
       "      <th>OtherPay</th>\n",
       "      <th>TotalPay</th>\n",
       "      <th>TotalPayBenefits</th>\n",
       "      <th>Notes</th>\n",
       "    </tr>\n",
       "  </thead>\n",
       "  <tbody>\n",
       "    <tr>\n",
       "      <th>count</th>\n",
       "      <td>148045.000000</td>\n",
       "      <td>148650.000000</td>\n",
       "      <td>148650.000000</td>\n",
       "      <td>148654.000000</td>\n",
       "      <td>148654.000000</td>\n",
       "      <td>0</td>\n",
       "    </tr>\n",
       "    <tr>\n",
       "      <th>mean</th>\n",
       "      <td>66325.448840</td>\n",
       "      <td>5066.059886</td>\n",
       "      <td>3648.767297</td>\n",
       "      <td>74768.321972</td>\n",
       "      <td>93692.554811</td>\n",
       "      <td>NaN</td>\n",
       "    </tr>\n",
       "    <tr>\n",
       "      <th>std</th>\n",
       "      <td>42764.635495</td>\n",
       "      <td>11454.380559</td>\n",
       "      <td>8056.601866</td>\n",
       "      <td>50517.005274</td>\n",
       "      <td>62793.533483</td>\n",
       "      <td>NaN</td>\n",
       "    </tr>\n",
       "    <tr>\n",
       "      <th>min</th>\n",
       "      <td>-166.010000</td>\n",
       "      <td>-0.010000</td>\n",
       "      <td>-7058.590000</td>\n",
       "      <td>-618.130000</td>\n",
       "      <td>-618.130000</td>\n",
       "      <td>NaN</td>\n",
       "    </tr>\n",
       "    <tr>\n",
       "      <th>25%</th>\n",
       "      <td>33588.200000</td>\n",
       "      <td>0.000000</td>\n",
       "      <td>0.000000</td>\n",
       "      <td>36168.995000</td>\n",
       "      <td>44065.650000</td>\n",
       "      <td>NaN</td>\n",
       "    </tr>\n",
       "    <tr>\n",
       "      <th>50%</th>\n",
       "      <td>65007.450000</td>\n",
       "      <td>0.000000</td>\n",
       "      <td>811.270000</td>\n",
       "      <td>71426.610000</td>\n",
       "      <td>92404.090000</td>\n",
       "      <td>NaN</td>\n",
       "    </tr>\n",
       "    <tr>\n",
       "      <th>75%</th>\n",
       "      <td>94691.050000</td>\n",
       "      <td>4658.175000</td>\n",
       "      <td>4236.065000</td>\n",
       "      <td>105839.135000</td>\n",
       "      <td>132876.450000</td>\n",
       "      <td>NaN</td>\n",
       "    </tr>\n",
       "    <tr>\n",
       "      <th>max</th>\n",
       "      <td>319275.010000</td>\n",
       "      <td>245131.880000</td>\n",
       "      <td>400184.250000</td>\n",
       "      <td>567595.430000</td>\n",
       "      <td>567595.430000</td>\n",
       "      <td>NaN</td>\n",
       "    </tr>\n",
       "  </tbody>\n",
       "</table>\n",
       "</div>"
      ],
      "text/plain": [
       "             BasePay    OvertimePay       OtherPay       TotalPay  \\\n",
       "count  148045.000000  148650.000000  148650.000000  148654.000000   \n",
       "mean    66325.448840    5066.059886    3648.767297   74768.321972   \n",
       "std     42764.635495   11454.380559    8056.601866   50517.005274   \n",
       "min      -166.010000      -0.010000   -7058.590000    -618.130000   \n",
       "25%     33588.200000       0.000000       0.000000   36168.995000   \n",
       "50%     65007.450000       0.000000     811.270000   71426.610000   \n",
       "75%     94691.050000    4658.175000    4236.065000  105839.135000   \n",
       "max    319275.010000  245131.880000  400184.250000  567595.430000   \n",
       "\n",
       "       TotalPayBenefits  Notes  \n",
       "count     148654.000000      0  \n",
       "mean       93692.554811    NaN  \n",
       "std        62793.533483    NaN  \n",
       "min         -618.130000    NaN  \n",
       "25%        44065.650000    NaN  \n",
       "50%        92404.090000    NaN  \n",
       "75%       132876.450000    NaN  \n",
       "max       567595.430000    NaN  "
      ]
     },
     "execution_count": 17,
     "metadata": {},
     "output_type": "execute_result"
    }
   ],
   "source": [
    "sf_salaries_df.describe()"
   ]
  },
  {
   "cell_type": "code",
   "execution_count": 15,
   "metadata": {
    "collapsed": false
   },
   "outputs": [
    {
     "data": {
      "text/plain": [
       "Id                   object\n",
       "EmployeeName         object\n",
       "JobTitle             object\n",
       "BasePay             float64\n",
       "OvertimePay         float64\n",
       "OtherPay            float64\n",
       "Benefits             object\n",
       "TotalPay            float64\n",
       "TotalPayBenefits    float64\n",
       "Year                 object\n",
       "Notes               float64\n",
       "Agency               object\n",
       "Status               object\n",
       "dtype: object"
      ]
     },
     "execution_count": 15,
     "metadata": {},
     "output_type": "execute_result"
    }
   ],
   "source": [
    "sf_salaries_df.dtypes"
   ]
  },
  {
   "cell_type": "markdown",
   "metadata": {},
   "source": [
    "### What if we enforce the type right away?"
   ]
  },
  {
   "cell_type": "code",
   "execution_count": 21,
   "metadata": {
    "collapsed": false
   },
   "outputs": [],
   "source": [
    "sf_salaries_df2 = pd.read_csv('data/output/Salaries.csv')\n",
    "# sf_salaries_df2[['BasePay', 'OvertimePay', 'OtherPay', 'TotalPay', 'TotalPayBenefits']] = sf_salaries_df2[\n",
    "#     ['BasePay', 'OvertimePay', 'OtherPay', 'TotalPay', 'TotalPayBenefits']].astype('float64')\n",
    "# sf_salaries_df2['Year'] = sf_salaries_df['Year'].astype('str')\n",
    "# sf_salaries_df2['Id'] = sf_salaries_df['Id'].astype('str')\n",
    "\n",
    "del sf_salaries_df2"
   ]
  },
  {
   "cell_type": "markdown",
   "metadata": {},
   "source": [
    "### Other useful things to check"
   ]
  },
  {
   "cell_type": "code",
   "execution_count": 19,
   "metadata": {
    "collapsed": false
   },
   "outputs": [
    {
     "name": "stdout",
     "output_type": "stream",
     "text": [
      "Series([], dtype: int64)\n",
      "0\n"
     ]
    }
   ],
   "source": [
    "# Other useful things to check\n",
    "print sf_salaries_df.Notes.value_counts()\n",
    "print sf_salaries_df.Notes.nunique()"
   ]
  },
  {
   "cell_type": "code",
   "execution_count": 24,
   "metadata": {
    "collapsed": false
   },
   "outputs": [
    {
     "name": "stdout",
     "output_type": "stream",
     "text": [
      "110810\n"
     ]
    }
   ],
   "source": [
    "print sf_salaries_df.EmployeeName.nunique()"
   ]
  },
  {
   "cell_type": "code",
   "execution_count": 26,
   "metadata": {
    "collapsed": false
   },
   "outputs": [
    {
     "name": "stdout",
     "output_type": "stream",
     "text": [
      "Transit Operator                                      7036\n",
      "Special Nurse                                         4389\n",
      "Registered Nurse                                      3736\n",
      "Public Svc Aide-Public Works                          2518\n",
      "Police Officer 3                                      2421\n",
      "Custodian                                             2418\n",
      "TRANSIT OPERATOR                                      2388\n",
      "Firefighter                                           2359\n",
      "Recreation Leader                                     1971\n",
      "Patient Care Assistant                                1945\n",
      "Deputy Sheriff                                        1933\n",
      "Police Officer                                        1476\n",
      "SPECIAL NURSE                                         1402\n",
      "Public Service Trainee                                1328\n",
      "REGISTERED NURSE                                      1219\n",
      "Police Officer 2                                      1141\n",
      "Attorney (Civil/Criminal)                             1126\n",
      "Porter                                                1095\n",
      "Sergeant 3                                            1047\n",
      "General Laborer                                       1033\n",
      "EMT/Paramedic/Firefighter                              918\n",
      "Gardener                                               894\n",
      "Parking Control Officer                                868\n",
      "Senior Clerk                                           840\n",
      "Library Page                                           799\n",
      "CUSTODIAN                                              796\n",
      "FIREFIGHTER                                            794\n",
      "POLICE OFFICER III                                     779\n",
      "Clerk                                                  764\n",
      "Eligibility Worker                                     760\n",
      "                                                      ... \n",
      "HEAVY EQUIPMENT OPERATIONS ASSISTANT SUPERVISOR          1\n",
      "CHIEF DISTRICT ATTORNEY'S INVESTIGATOR                   1\n",
      "TRAFFIC HEARING OFFICER                                  1\n",
      "CAPTAIN, BUREAU OF FIRE PREVENTION AND PUBLIC SAFE       1\n",
      "MENTAL HEALTH HEARING OFFICER                            1\n",
      "Chief Investment Officer                                 1\n",
      "CHIEF OF POLICE                                          1\n",
      "IS Technician Assistant                                  1\n",
      "LIBRARIAN II - ASIAN ARTS                                1\n",
      "CONFIDENTIAL SECRETARY CITY ATTORNEY                     1\n",
      "PUBLIC SAFETY COMMUNICATIONS TECHNICIAN                  1\n",
      "CHIEF VICTIM/WITNESS INVESTIGATOR                        1\n",
      "MAYOR'S PROGRAM MANAGER                                  1\n",
      "SHERIFF                                                  1\n",
      "Cfdntal Sctry to Distric Atty                            1\n",
      "TRIAL DELAY REDUCTION COORDINATOR                        1\n",
      "VETERNIARY LABORATORY TECHNOLOGIST                       1\n",
      "CITY PLANNING GRAPHICS SUPERVISOR                        1\n",
      "Captain, (Fire Department)                               1\n",
      "TRANSIT POWER LINE WORKER SUPERVISOR II                  1\n",
      "WIRE ROPE CABLE MAINTENANCE SUPERVISOR                   1\n",
      "SUPPLY ROOM ATTENDENT                                    1\n",
      "MEDIA PRODUCTION SUPERVISOR                              1\n",
      "TRANSIT PAINT SHOP SUPERVISOR I                          1\n",
      "SECRETARY, COMMISSION ON THE ENVIRONMENT                 1\n",
      "ZOO CURATOR                                              1\n",
      "Light Rail Vehicle Equip Eng                             1\n",
      "COURT EXECUTIVE OFFICER                                  1\n",
      "ASSISTANT DIRECTOR, JUVENILE HALL                        1\n",
      "COURT ADMINISTRATIVE SECRETARY                           1\n",
      "dtype: int64\n"
     ]
    }
   ],
   "source": [
    "print sf_salaries_df.JobTitle.value_counts()"
   ]
  },
  {
   "cell_type": "markdown",
   "metadata": {},
   "source": [
    "## Select Column and Rows"
   ]
  },
  {
   "cell_type": "code",
   "execution_count": 54,
   "metadata": {
    "collapsed": false
   },
   "outputs": [
    {
     "data": {
      "text/html": [
       "<div style=\"max-height:1000px;max-width:1500px;overflow:auto;\">\n",
       "<table border=\"1\" class=\"dataframe\">\n",
       "  <thead>\n",
       "    <tr style=\"text-align: right;\">\n",
       "      <th></th>\n",
       "      <th>Id</th>\n",
       "      <th>EmployeeName</th>\n",
       "      <th>JobTitle</th>\n",
       "      <th>BasePay</th>\n",
       "      <th>OvertimePay</th>\n",
       "      <th>OtherPay</th>\n",
       "      <th>Benefits</th>\n",
       "      <th>TotalPay</th>\n",
       "      <th>TotalPayBenefits</th>\n",
       "      <th>Year</th>\n",
       "      <th>Notes</th>\n",
       "      <th>Agency</th>\n",
       "      <th>Status</th>\n",
       "    </tr>\n",
       "  </thead>\n",
       "  <tbody>\n",
       "    <tr>\n",
       "      <th>39881</th>\n",
       "      <td>39882</td>\n",
       "      <td>Christian Kitchin</td>\n",
       "      <td>Special Nurse</td>\n",
       "      <td>133932.19</td>\n",
       "      <td>17169.34</td>\n",
       "      <td>22662.64</td>\n",
       "      <td>8255.59</td>\n",
       "      <td>173764.17</td>\n",
       "      <td>182019.76</td>\n",
       "      <td>2012</td>\n",
       "      <td>NaN</td>\n",
       "      <td>San Francisco</td>\n",
       "      <td>NaN</td>\n",
       "    </tr>\n",
       "    <tr>\n",
       "      <th>41793</th>\n",
       "      <td>41794</td>\n",
       "      <td>Laurie Towns</td>\n",
       "      <td>Special Nurse</td>\n",
       "      <td>135691.93</td>\n",
       "      <td>2919.63</td>\n",
       "      <td>17621.18</td>\n",
       "      <td>9928.81</td>\n",
       "      <td>156232.74</td>\n",
       "      <td>166161.55</td>\n",
       "      <td>2012</td>\n",
       "      <td>NaN</td>\n",
       "      <td>San Francisco</td>\n",
       "      <td>NaN</td>\n",
       "    </tr>\n",
       "    <tr>\n",
       "      <th>42130</th>\n",
       "      <td>42131</td>\n",
       "      <td>Leah Custis</td>\n",
       "      <td>Special Nurse</td>\n",
       "      <td>127700.35</td>\n",
       "      <td>10214.69</td>\n",
       "      <td>22198.08</td>\n",
       "      <td>3752.82</td>\n",
       "      <td>160113.12</td>\n",
       "      <td>163865.94</td>\n",
       "      <td>2012</td>\n",
       "      <td>NaN</td>\n",
       "      <td>San Francisco</td>\n",
       "      <td>NaN</td>\n",
       "    </tr>\n",
       "    <tr>\n",
       "      <th>42394</th>\n",
       "      <td>42395</td>\n",
       "      <td>Jennifer Chiu</td>\n",
       "      <td>Special Nurse</td>\n",
       "      <td>124073.96</td>\n",
       "      <td>17112.23</td>\n",
       "      <td>17273.94</td>\n",
       "      <td>3909</td>\n",
       "      <td>158460.13</td>\n",
       "      <td>162369.13</td>\n",
       "      <td>2012</td>\n",
       "      <td>NaN</td>\n",
       "      <td>San Francisco</td>\n",
       "      <td>NaN</td>\n",
       "    </tr>\n",
       "    <tr>\n",
       "      <th>42535</th>\n",
       "      <td>42536</td>\n",
       "      <td>Genevieve Hamer</td>\n",
       "      <td>Special Nurse</td>\n",
       "      <td>128163.62</td>\n",
       "      <td>5377.31</td>\n",
       "      <td>21052.88</td>\n",
       "      <td>6769.96</td>\n",
       "      <td>154593.81</td>\n",
       "      <td>161363.77</td>\n",
       "      <td>2012</td>\n",
       "      <td>NaN</td>\n",
       "      <td>San Francisco</td>\n",
       "      <td>NaN</td>\n",
       "    </tr>\n",
       "  </tbody>\n",
       "</table>\n",
       "</div>"
      ],
      "text/plain": [
       "          Id       EmployeeName       JobTitle    BasePay  OvertimePay  \\\n",
       "39881  39882  Christian Kitchin  Special Nurse  133932.19     17169.34   \n",
       "41793  41794       Laurie Towns  Special Nurse  135691.93      2919.63   \n",
       "42130  42131        Leah Custis  Special Nurse  127700.35     10214.69   \n",
       "42394  42395      Jennifer Chiu  Special Nurse  124073.96     17112.23   \n",
       "42535  42536    Genevieve Hamer  Special Nurse  128163.62      5377.31   \n",
       "\n",
       "       OtherPay Benefits   TotalPay  TotalPayBenefits  Year  Notes  \\\n",
       "39881  22662.64  8255.59  173764.17         182019.76  2012    NaN   \n",
       "41793  17621.18  9928.81  156232.74         166161.55  2012    NaN   \n",
       "42130  22198.08  3752.82  160113.12         163865.94  2012    NaN   \n",
       "42394  17273.94     3909  158460.13         162369.13  2012    NaN   \n",
       "42535  21052.88  6769.96  154593.81         161363.77  2012    NaN   \n",
       "\n",
       "              Agency Status  \n",
       "39881  San Francisco    NaN  \n",
       "41793  San Francisco    NaN  \n",
       "42130  San Francisco    NaN  \n",
       "42394  San Francisco    NaN  \n",
       "42535  San Francisco    NaN  "
      ]
     },
     "execution_count": 54,
     "metadata": {},
     "output_type": "execute_result"
    }
   ],
   "source": [
    "sf_salaries_df[sf_salaries_df['JobTitle'] == 'Special Nurse'].head()"
   ]
  },
  {
   "cell_type": "code",
   "execution_count": 56,
   "metadata": {
    "collapsed": false
   },
   "outputs": [
    {
     "data": {
      "text/html": [
       "<div style=\"max-height:1000px;max-width:1500px;overflow:auto;\">\n",
       "<table border=\"1\" class=\"dataframe\">\n",
       "  <thead>\n",
       "    <tr style=\"text-align: right;\">\n",
       "      <th></th>\n",
       "      <th>Id</th>\n",
       "      <th>EmployeeName</th>\n",
       "      <th>JobTitle</th>\n",
       "      <th>BasePay</th>\n",
       "      <th>OvertimePay</th>\n",
       "      <th>OtherPay</th>\n",
       "      <th>Benefits</th>\n",
       "      <th>TotalPay</th>\n",
       "      <th>TotalPayBenefits</th>\n",
       "      <th>Year</th>\n",
       "      <th>Notes</th>\n",
       "      <th>Agency</th>\n",
       "      <th>Status</th>\n",
       "    </tr>\n",
       "  </thead>\n",
       "  <tbody>\n",
       "    <tr>\n",
       "      <th>168</th>\n",
       "      <td>169</td>\n",
       "      <td>AMPARO RODRIGUEZ</td>\n",
       "      <td>NURSE MANAGER</td>\n",
       "      <td>161044.00</td>\n",
       "      <td>4599.05</td>\n",
       "      <td>43997.82</td>\n",
       "      <td>NaN</td>\n",
       "      <td>209640.87</td>\n",
       "      <td>209640.87</td>\n",
       "      <td>2011</td>\n",
       "      <td>NaN</td>\n",
       "      <td>San Francisco</td>\n",
       "      <td>NaN</td>\n",
       "    </tr>\n",
       "    <tr>\n",
       "      <th>203</th>\n",
       "      <td>204</td>\n",
       "      <td>ROSELYN JEQUINTO</td>\n",
       "      <td>NURSE MANAGER</td>\n",
       "      <td>165996.75</td>\n",
       "      <td>8054.01</td>\n",
       "      <td>31660.13</td>\n",
       "      <td>NaN</td>\n",
       "      <td>205710.89</td>\n",
       "      <td>205710.89</td>\n",
       "      <td>2011</td>\n",
       "      <td>NaN</td>\n",
       "      <td>San Francisco</td>\n",
       "      <td>NaN</td>\n",
       "    </tr>\n",
       "    <tr>\n",
       "      <th>247</th>\n",
       "      <td>248</td>\n",
       "      <td>NANCY PARKER</td>\n",
       "      <td>NURSE MANAGER</td>\n",
       "      <td>171236.03</td>\n",
       "      <td>0.00</td>\n",
       "      <td>29584.32</td>\n",
       "      <td>NaN</td>\n",
       "      <td>200820.35</td>\n",
       "      <td>200820.35</td>\n",
       "      <td>2011</td>\n",
       "      <td>NaN</td>\n",
       "      <td>San Francisco</td>\n",
       "      <td>NaN</td>\n",
       "    </tr>\n",
       "    <tr>\n",
       "      <th>255</th>\n",
       "      <td>256</td>\n",
       "      <td>CRISTINA REYES</td>\n",
       "      <td>NURSE MANAGER</td>\n",
       "      <td>171236.02</td>\n",
       "      <td>0.00</td>\n",
       "      <td>29110.14</td>\n",
       "      <td>NaN</td>\n",
       "      <td>200346.16</td>\n",
       "      <td>200346.16</td>\n",
       "      <td>2011</td>\n",
       "      <td>NaN</td>\n",
       "      <td>San Francisco</td>\n",
       "      <td>NaN</td>\n",
       "    </tr>\n",
       "    <tr>\n",
       "      <th>297</th>\n",
       "      <td>298</td>\n",
       "      <td>JOSEPHINE RAPADAS</td>\n",
       "      <td>NURSE MANAGER</td>\n",
       "      <td>171071.36</td>\n",
       "      <td>7606.83</td>\n",
       "      <td>18210.20</td>\n",
       "      <td>NaN</td>\n",
       "      <td>196888.39</td>\n",
       "      <td>196888.39</td>\n",
       "      <td>2011</td>\n",
       "      <td>NaN</td>\n",
       "      <td>San Francisco</td>\n",
       "      <td>NaN</td>\n",
       "    </tr>\n",
       "  </tbody>\n",
       "</table>\n",
       "</div>"
      ],
      "text/plain": [
       "      Id       EmployeeName       JobTitle    BasePay  OvertimePay  OtherPay  \\\n",
       "168  169   AMPARO RODRIGUEZ  NURSE MANAGER  161044.00      4599.05  43997.82   \n",
       "203  204   ROSELYN JEQUINTO  NURSE MANAGER  165996.75      8054.01  31660.13   \n",
       "247  248       NANCY PARKER  NURSE MANAGER  171236.03         0.00  29584.32   \n",
       "255  256     CRISTINA REYES  NURSE MANAGER  171236.02         0.00  29110.14   \n",
       "297  298  JOSEPHINE RAPADAS  NURSE MANAGER  171071.36      7606.83  18210.20   \n",
       "\n",
       "    Benefits   TotalPay  TotalPayBenefits  Year  Notes         Agency Status  \n",
       "168      NaN  209640.87         209640.87  2011    NaN  San Francisco    NaN  \n",
       "203      NaN  205710.89         205710.89  2011    NaN  San Francisco    NaN  \n",
       "247      NaN  200820.35         200820.35  2011    NaN  San Francisco    NaN  \n",
       "255      NaN  200346.16         200346.16  2011    NaN  San Francisco    NaN  \n",
       "297      NaN  196888.39         196888.39  2011    NaN  San Francisco    NaN  "
      ]
     },
     "execution_count": 56,
     "metadata": {},
     "output_type": "execute_result"
    }
   ],
   "source": [
    "sf_salaries_df[sf_salaries_df['JobTitle'].str.contains('^(?i)nurse.*')].head()"
   ]
  },
  {
   "cell_type": "markdown",
   "metadata": {},
   "source": [
    "## Aggregation "
   ]
  },
  {
   "cell_type": "code",
   "execution_count": 57,
   "metadata": {
    "collapsed": true
   },
   "outputs": [],
   "source": [
    "# What's the averge top paying job\n",
    "# What's the top 10 average paying job"
   ]
  },
  {
   "cell_type": "code",
   "execution_count": 76,
   "metadata": {
    "collapsed": false
   },
   "outputs": [],
   "source": [
    "title_df = pd.DataFrame()\n",
    "title_df['avg_base_pay'] = sf_salaries_df.groupby('JobTitle').BasePay.mean().fillna(0).astype('int')\n",
    "title_df['percentile'] = sf_salaries_df.groupby('JobTitle').BasePay.mean().rank(pct=True)\n",
    "title_df.sort('percentile', ascending=False).head()"
   ]
  },
  {
   "cell_type": "code",
   "execution_count": 78,
   "metadata": {
    "collapsed": false
   },
   "outputs": [
    {
     "data": {
      "text/html": [
       "<div style=\"max-height:1000px;max-width:1500px;overflow:auto;\">\n",
       "<table border=\"1\" class=\"dataframe\">\n",
       "  <thead>\n",
       "    <tr style=\"text-align: right;\">\n",
       "      <th></th>\n",
       "      <th>avg_base_pay</th>\n",
       "      <th>percentile</th>\n",
       "    </tr>\n",
       "    <tr>\n",
       "      <th>JobTitle</th>\n",
       "      <th></th>\n",
       "      <th></th>\n",
       "    </tr>\n",
       "  </thead>\n",
       "  <tbody>\n",
       "    <tr>\n",
       "      <th>Chief of Police</th>\n",
       "      <td>309767</td>\n",
       "      <td>1.000000</td>\n",
       "    </tr>\n",
       "    <tr>\n",
       "      <th>Chief, Fire Department</th>\n",
       "      <td>304232</td>\n",
       "      <td>0.999536</td>\n",
       "    </tr>\n",
       "    <tr>\n",
       "      <th>Gen Mgr, Public Trnsp Dept</th>\n",
       "      <td>297769</td>\n",
       "      <td>0.999071</td>\n",
       "    </tr>\n",
       "    <tr>\n",
       "      <th>CHIEF OF DEPARTMENT, (FIRE DEPARTMENT)</th>\n",
       "      <td>285262</td>\n",
       "      <td>0.998607</td>\n",
       "    </tr>\n",
       "    <tr>\n",
       "      <th>Dep Dir for Investments, Ret</th>\n",
       "      <td>276153</td>\n",
       "      <td>0.998143</td>\n",
       "    </tr>\n",
       "  </tbody>\n",
       "</table>\n",
       "</div>"
      ],
      "text/plain": [
       "                                        avg_base_pay  percentile\n",
       "JobTitle                                                        \n",
       "Chief of Police                               309767    1.000000\n",
       "Chief, Fire Department                        304232    0.999536\n",
       "Gen Mgr, Public Trnsp Dept                    297769    0.999071\n",
       "CHIEF OF DEPARTMENT, (FIRE DEPARTMENT)        285262    0.998607\n",
       "Dep Dir for Investments, Ret                  276153    0.998143"
      ]
     },
     "execution_count": 78,
     "metadata": {},
     "output_type": "execute_result"
    }
   ],
   "source": [
    "# What's the percentile of special nurse"
   ]
  },
  {
   "cell_type": "markdown",
   "metadata": {},
   "source": [
    "## Pivot"
   ]
  },
  {
   "cell_type": "code",
   "execution_count": 82,
   "metadata": {
    "collapsed": false
   },
   "outputs": [
    {
     "data": {
      "text/html": [
       "<div style=\"max-height:1000px;max-width:1500px;overflow:auto;\">\n",
       "<table border=\"1\" class=\"dataframe\">\n",
       "  <thead>\n",
       "    <tr style=\"text-align: right;\">\n",
       "      <th>Year</th>\n",
       "      <th>2011</th>\n",
       "      <th>2012</th>\n",
       "      <th>2013</th>\n",
       "      <th>2014</th>\n",
       "    </tr>\n",
       "    <tr>\n",
       "      <th>JobTitle</th>\n",
       "      <th></th>\n",
       "      <th></th>\n",
       "      <th></th>\n",
       "      <th></th>\n",
       "    </tr>\n",
       "  </thead>\n",
       "  <tbody>\n",
       "    <tr>\n",
       "      <th>ACCOUNT CLERK</th>\n",
       "      <td>44035.664337</td>\n",
       "      <td>NaN</td>\n",
       "      <td>NaN</td>\n",
       "      <td>NaN</td>\n",
       "    </tr>\n",
       "    <tr>\n",
       "      <th>ACCOUNTANT</th>\n",
       "      <td>47429.268000</td>\n",
       "      <td>NaN</td>\n",
       "      <td>NaN</td>\n",
       "      <td>NaN</td>\n",
       "    </tr>\n",
       "    <tr>\n",
       "      <th>ACCOUNTANT INTERN</th>\n",
       "      <td>29031.742917</td>\n",
       "      <td>NaN</td>\n",
       "      <td>NaN</td>\n",
       "      <td>NaN</td>\n",
       "    </tr>\n",
       "    <tr>\n",
       "      <th>ACPO,JuvP, Juv Prob (SFERS)</th>\n",
       "      <td>NaN</td>\n",
       "      <td>NaN</td>\n",
       "      <td>NaN</td>\n",
       "      <td>62290.78</td>\n",
       "    </tr>\n",
       "    <tr>\n",
       "      <th>ACUPUNCTURIST</th>\n",
       "      <td>67594.400000</td>\n",
       "      <td>NaN</td>\n",
       "      <td>NaN</td>\n",
       "      <td>NaN</td>\n",
       "    </tr>\n",
       "  </tbody>\n",
       "</table>\n",
       "</div>"
      ],
      "text/plain": [
       "Year                                 2011  2012  2013      2014\n",
       "JobTitle                                                       \n",
       "ACCOUNT CLERK                44035.664337   NaN   NaN       NaN\n",
       "ACCOUNTANT                   47429.268000   NaN   NaN       NaN\n",
       "ACCOUNTANT INTERN            29031.742917   NaN   NaN       NaN\n",
       "ACPO,JuvP, Juv Prob (SFERS)           NaN   NaN   NaN  62290.78\n",
       "ACUPUNCTURIST                67594.400000   NaN   NaN       NaN"
      ]
     },
     "execution_count": 82,
     "metadata": {},
     "output_type": "execute_result"
    }
   ],
   "source": [
    "sf_salaries_df.groupby(['JobTitle', 'Year']).TotalPay.mean().reset_index().pivot(index='JobTitle', \n",
    "                                                                                 columns='Year', \n",
    "                                                                                 values='TotalPay')"
   ]
  },
  {
   "cell_type": "markdown",
   "metadata": {},
   "source": [
    "## Plotting"
   ]
  },
  {
   "cell_type": "markdown",
   "metadata": {},
   "source": [
    "## Exploratory Data Analysis General Practice\n",
    "1. Check each column and type. Enforce the type.\n",
    "2. Check for missing values and then decide how to handle. \n",
    "3. Check outliers \n",
    "4. Check for distribution of each column \n",
    "5. See if there is any general patterns you can find"
   ]
  },
  {
   "cell_type": "code",
   "execution_count": null,
   "metadata": {
    "collapsed": true
   },
   "outputs": [],
   "source": []
  }
 ],
 "metadata": {
  "kernelspec": {
   "display_name": "Python 2",
   "language": "python",
   "name": "python2"
  },
  "language_info": {
   "codemirror_mode": {
    "name": "ipython",
    "version": 2
   },
   "file_extension": ".py",
   "mimetype": "text/x-python",
   "name": "python",
   "nbconvert_exporter": "python",
   "pygments_lexer": "ipython2",
   "version": "2.7.10"
  }
 },
 "nbformat": 4,
 "nbformat_minor": 0
}
